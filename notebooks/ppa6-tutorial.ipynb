{
 "cells": [
  {
   "attachments": {},
   "cell_type": "markdown",
   "metadata": {},
   "source": [
    "# Connect to the printer"
   ]
  },
  {
   "cell_type": "code",
   "execution_count": null,
   "metadata": {},
   "outputs": [],
   "source": [
    "import peripage\n",
    "\n",
    "printer = peripage.Printer('45:54:07:0d:39:48', peripage.PrinterType.A6p)\n",
    "await printer.connect()\n",
    "await printer.reset()"
   ]
  },
  {
   "attachments": {},
   "cell_type": "markdown",
   "metadata": {},
   "source": [
    "# Get information about printer"
   ]
  },
  {
   "cell_type": "code",
   "execution_count": null,
   "metadata": {},
   "outputs": [],
   "source": [
    "print(f'Name: {await printer.getDeviceName()}')\n",
    "print(f'S/N: {await printer.getDeviceSerialNumber()}')\n",
    "print(f'F/W: {await printer.getDeviceFirmware()}')\n",
    "print(f'Battery: {await printer.getDeviceBattery()}%')\n",
    "print(f'H/W: {await printer.getDeviceHardware()}')\n",
    "print(f'MAC: {await printer.getDeviceMAC()}')\n",
    "print(f'Full: {await printer.getDeviceFull()}')"
   ]
  },
  {
   "attachments": {},
   "cell_type": "markdown",
   "metadata": {},
   "source": [
    "# Sample print"
   ]
  },
  {
   "cell_type": "code",
   "execution_count": null,
   "metadata": {},
   "outputs": [],
   "source": [
    "await printer.writeASCII('Hello World?\\n')\n",
    "await printer.printBreak(100)"
   ]
  },
  {
   "attachments": {},
   "cell_type": "markdown",
   "metadata": {},
   "source": [
    "# Print random image"
   ]
  },
  {
   "cell_type": "code",
   "execution_count": null,
   "metadata": {},
   "outputs": [],
   "source": [
    "import numpy\n",
    "from PIL import Image\n",
    "imarray = numpy.random.rand(printer.getRowWidth(),printer.getRowWidth(), 3) * 255\n",
    "im = Image.fromarray(imarray.astype('uint8')).convert('L')\n",
    "\n",
    "# Set print concentration\n",
    "await printer.setConcentration(1)\n",
    "\n",
    "# Print image & break\n",
    "await printer.printImage(im)\n",
    "await printer.printBreak(100)"
   ]
  },
  {
   "attachments": {},
   "cell_type": "markdown",
   "metadata": {},
   "source": [
    "# Infinite print using generator"
   ]
  },
  {
   "cell_type": "code",
   "execution_count": null,
   "metadata": {},
   "outputs": [],
   "source": [
    "# Ping-pong slider\n",
    "def slider():\n",
    "    direct = True\n",
    "    pos = 0\n",
    "    while True:\n",
    "        s = '00' * pos + 'ff' + '00' * (printer.getRowBytes() - pos - 1)\n",
    "        if direct:\n",
    "            pos = pos + 1\n",
    "            if pos == printer.getRowBytes() - 1:\n",
    "                direct = False\n",
    "        else:\n",
    "            pos = pos - 1\n",
    "            if pos == 0:\n",
    "                direct = True\n",
    "        yield bytes.fromhex(s)\n",
    "\n",
    "# Infinite printing, slow\n",
    "printer.printRowBytesIterator(slider(), 0.25)"
   ]
  },
  {
   "attachments": {},
   "cell_type": "markdown",
   "metadata": {},
   "source": [
    "# Print using generator in limited page length"
   ]
  },
  {
   "cell_type": "code",
   "execution_count": null,
   "metadata": {},
   "outputs": [],
   "source": [
    "# Ping-pong slider\n",
    "def slider():\n",
    "    direct = True\n",
    "    pos = 0\n",
    "    while True:\n",
    "        s = '00' * pos + 'ff' + '00' * (printer.getRowBytes() - pos - 1)\n",
    "        if direct:\n",
    "            pos = pos + 1\n",
    "            if pos == printer.getRowBytes() - 1:\n",
    "                direct = False\n",
    "        else:\n",
    "            pos = pos - 1\n",
    "            if pos == 0:\n",
    "                direct = True\n",
    "        yield bytes.fromhex(s)\n",
    "\n",
    "# Print on page 200 px length\n",
    "printer.printRowBytesIteratorOfSize(slider(), 200, 0.01)\n",
    "printer.printBreak(100)"
   ]
  },
  {
   "cell_type": "code",
   "execution_count": null,
   "metadata": {},
   "outputs": [],
   "source": [
    "import random\n",
    "\n",
    "# Random byte rows\n",
    "def rand():\n",
    "    while True:\n",
    "        s = ''.join([random.choice('0123456789abcdef') for n in range(printer.getRowWidth())])\n",
    "        yield s\n",
    "\n",
    "# Print on page 200 px length\n",
    "await printer.printRowBytesIteratorOfSize(rand(), 200, 0.01)\n",
    "await printer.printBreak(100)"
   ]
  }
 ],
 "metadata": {
  "kernelspec": {
   "display_name": "Python 3",
   "language": "python",
   "name": "python3"
  },
  "language_info": {
   "codemirror_mode": {
    "name": "ipython",
    "version": 3
   },
   "file_extension": ".py",
   "mimetype": "text/x-python",
   "name": "python",
   "nbconvert_exporter": "python",
   "pygments_lexer": "ipython3",
   "version": "3.13.1"
  }
 },
 "nbformat": 4,
 "nbformat_minor": 4
}
